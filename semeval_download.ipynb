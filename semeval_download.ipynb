{
 "cells": [
  {
   "cell_type": "code",
   "execution_count": 6,
   "metadata": {},
   "outputs": [
    {
     "name": "stdout",
     "output_type": "stream",
     "text": [
      "Files in the data directory:\n",
      "- hyperpartisan_data/articles-training-byarticle-20181122.xml\n",
      "- hyperpartisan_data/articles-training-byarticle.zip\n",
      "\n",
      "XML files found:\n",
      "- hyperpartisan_data/articles-training-byarticle-20181122.xml\n"
     ]
    }
   ],
   "source": [
    "import os\n",
    "\n",
    "data_dir = \"hyperpartisan_data\"\n",
    "\n",
    "# Find all files in the data directory to see what was extracted\n",
    "all_files = []\n",
    "for root, dirs, files in os.walk(data_dir):\n",
    "    for file in files:\n",
    "        all_files.append(os.path.join(root, file))\n",
    "\n",
    "print(\"Files in the data directory:\")\n",
    "for file in all_files:\n",
    "    print(f\"- {file}\")\n",
    "\n",
    "# Look specifically for XML files\n",
    "xml_files = [f for f in all_files if f.endswith('.xml')]\n",
    "print(\"\\nXML files found:\")\n",
    "for xml_file in xml_files:\n",
    "    print(f\"- {xml_file}\")"
   ]
  }
 ],
 "metadata": {
  "kernelspec": {
   "display_name": "notebooks-CPv1Fx27-py3.11",
   "language": "python",
   "name": "python3"
  },
  "language_info": {
   "codemirror_mode": {
    "name": "ipython",
    "version": 3
   },
   "file_extension": ".py",
   "mimetype": "text/x-python",
   "name": "python",
   "nbconvert_exporter": "python",
   "pygments_lexer": "ipython3",
   "version": "3.11.7"
  }
 },
 "nbformat": 4,
 "nbformat_minor": 2
}
