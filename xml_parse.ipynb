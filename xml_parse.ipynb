{
 "cells": [
  {
   "cell_type": "code",
   "execution_count": 1,
   "metadata": {},
   "outputs": [
    {
     "name": "stdout",
     "output_type": "stream",
     "text": [
      "Parsing XML file: hyperpartisan_data/articles-training-byarticle-20181122.xml\n",
      "Found 645 articles in the XML file\n",
      "Saved 645 articles to hyperpartisan_data/articles_byarticle.csv\n",
      "Label distribution: hyperpartisan\n",
      "False    645\n",
      "Name: count, dtype: int64\n",
      "\n",
      "You can now run the preprocessing code.\n"
     ]
    },
    {
     "name": "stderr",
     "output_type": "stream",
     "text": [
      "/var/folders/fl/_zgwb4_x0653c4k5cg1l1mxr0000gn/T/ipykernel_36606/448051976.py:3: DeprecationWarning: \n",
      "Pyarrow will become a required dependency of pandas in the next major release of pandas (pandas 3.0),\n",
      "(to allow more performant data types, such as the Arrow string type, and better interoperability with other libraries)\n",
      "but was not found to be installed on your system.\n",
      "If this would cause problems for you,\n",
      "please provide us feedback at https://github.com/pandas-dev/pandas/issues/54466\n",
      "        \n",
      "  import pandas as pd\n"
     ]
    }
   ],
   "source": [
    "import os\n",
    "import xml.etree.ElementTree as ET\n",
    "import pandas as pd\n",
    "\n",
    "# Setup\n",
    "data_dir = \"hyperpartisan_data\"\n",
    "xml_file = os.path.join(data_dir, \"articles-training-byarticle-20181122.xml\")\n",
    "\n",
    "def parse_xml_to_dataframe(xml_file):\n",
    "    \"\"\"Parse the XML file into a pandas DataFrame\"\"\"\n",
    "    print(f\"Parsing XML file: {xml_file}\")\n",
    "    tree = ET.parse(xml_file)\n",
    "    root = tree.getroot()\n",
    "    \n",
    "    articles = []\n",
    "    for article in root.findall('.//article'):\n",
    "        # Extract article attributes\n",
    "        article_id = article.get('id')\n",
    "        title = article.get('title')\n",
    "        published_at = article.get('published-at')\n",
    "        hyperpartisan = article.get('hyperpartisan')\n",
    "        \n",
    "        # Extract article text\n",
    "        text = \"\"\n",
    "        for p in article.findall('.//p'):\n",
    "            if p.text:\n",
    "                text += p.text + \"\\n\"\n",
    "        \n",
    "        articles.append({\n",
    "            'id': article_id,\n",
    "            'title': title,\n",
    "            'published_at': published_at,\n",
    "            'hyperpartisan': hyperpartisan == 'true',\n",
    "            'text': text\n",
    "        })\n",
    "    \n",
    "    print(f\"Found {len(articles)} articles in the XML file\")\n",
    "    return pd.DataFrame(articles)\n",
    "\n",
    "# Check if the XML file exists\n",
    "if os.path.exists(xml_file):\n",
    "    # Parse XML to DataFrame\n",
    "    articles_df = parse_xml_to_dataframe(xml_file)\n",
    "    \n",
    "    # Save as CSV for easier handling\n",
    "    csv_path = os.path.join(data_dir, \"articles_byarticle.csv\")\n",
    "    articles_df.to_csv(csv_path, index=False)\n",
    "    \n",
    "    print(f\"Saved {len(articles_df)} articles to {csv_path}\")\n",
    "    print(f\"Label distribution: {articles_df['hyperpartisan'].value_counts()}\")\n",
    "    \n",
    "    # Now you can proceed with the preprocessing step\n",
    "    print(\"\\nYou can now run the preprocessing code.\")\n",
    "else:\n",
    "    print(f\"XML file not found at {xml_file}\")\n",
    "    print(\"Please check the file path and try again.\")"
   ]
  }
 ],
 "metadata": {
  "kernelspec": {
   "display_name": "notebooks-CPv1Fx27-py3.11",
   "language": "python",
   "name": "python3"
  },
  "language_info": {
   "codemirror_mode": {
    "name": "ipython",
    "version": 3
   },
   "file_extension": ".py",
   "mimetype": "text/x-python",
   "name": "python",
   "nbconvert_exporter": "python",
   "pygments_lexer": "ipython3",
   "version": "3.11.7"
  }
 },
 "nbformat": 4,
 "nbformat_minor": 2
}
