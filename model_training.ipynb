{
 "cells": [
  {
   "cell_type": "code",
   "execution_count": 45,
   "metadata": {},
   "outputs": [],
   "source": [
    "import pandas as pd\n",
    "import numpy as np\n",
    "import os\n",
    "import pickle\n",
    "import matplotlib.pyplot as plt\n",
    "import seaborn as sns\n",
    "from sklearn.linear_model import LogisticRegression\n",
    "from sklearn.ensemble import RandomForestClassifier, GradientBoostingClassifier\n",
    "from sklearn.svm import SVC\n",
    "from sklearn.naive_bayes import MultinomialNB\n",
    "from sklearn.metrics import classification_report, confusion_matrix, roc_curve, auc, precision_recall_curve\n",
    "from sklearn.model_selection import cross_val_score, GridSearchCV\n",
    "from sklearn.feature_selection import SelectFromModel\n",
    "import warnings\n",
    "warnings.filterwarnings('ignore')\n",
    "\n",
    "# Set paths\n",
    "features_dir = \"hyperpartisan_features\"\n",
    "models_dir = \"hyperpartisan_models\"\n",
    "os.makedirs(models_dir, exist_ok=True)"
   ]
  },
  {
   "cell_type": "code",
   "execution_count": 46,
   "metadata": {},
   "outputs": [
    {
     "name": "stdout",
     "output_type": "stream",
     "text": [
      "Training set: (516, 1136)\n",
      "Testing set: (129, 1136)\n",
      "Class distribution in training set: \n",
      "hyperpartisan\n",
      "False    326\n",
      "True     190\n",
      "Name: count, dtype: int64\n",
      "Total number of features: 1136\n"
     ]
    }
   ],
   "source": [
    "X_train = pd.read_csv(os.path.join(features_dir, 'X_train.csv'))\n",
    "X_test = pd.read_csv(os.path.join(features_dir, 'X_test.csv'))\n",
    "y_train = pd.read_csv(os.path.join(features_dir, 'y_train.csv'))['hyperpartisan']\n",
    "y_test = pd.read_csv(os.path.join(features_dir, 'y_test.csv'))['hyperpartisan']\n",
    "\n",
    "print(f\"Training set: {X_train.shape}\")\n",
    "print(f\"Testing set: {X_test.shape}\")\n",
    "print(f\"Class distribution in training set: \\n{y_train.value_counts()}\")\n",
    "print(f\"Total number of features: {X_train.shape[1]}\")"
   ]
  },
  {
   "cell_type": "markdown",
   "metadata": {},
   "source": [
    "With over 1,000 features, we'll select the most important ones to improve model performance and interpretability."
   ]
  },
  {
   "cell_type": "code",
   "execution_count": 47,
   "metadata": {},
   "outputs": [],
   "source": [
    "def perform_feature_selection(X_train, y_train, X_test, method='tree', max_features=300):\n",
    "    \"\"\"Select the most important features using the specified method\"\"\"\n",
    "    \n",
    "    if method == 'l1':\n",
    "        # L1 regularization (Lasso)\n",
    "        print(\"Performing L1-based feature selection...\")\n",
    "        selector = SelectFromModel(\n",
    "            LogisticRegression(C=0.1, penalty='l1', solver='liblinear', random_state=42),\n",
    "            max_features=max_features\n",
    "        )\n",
    "    else:\n",
    "        # Tree-based feature importance\n",
    "        print(\"Performing tree-based feature selection...\")\n",
    "        selector = SelectFromModel(\n",
    "            RandomForestClassifier(n_estimators=100, random_state=42),\n",
    "            max_features=max_features\n",
    "        )\n",
    "    \n",
    "    # Fit the selector\n",
    "    selector.fit(X_train, y_train)\n",
    "    \n",
    "    # Get selected features\n",
    "    selected_features = X_train.columns[selector.get_support()]\n",
    "    \n",
    "    # Transform the data\n",
    "    X_train_selected = selector.transform(X_train)\n",
    "    X_test_selected = selector.transform(X_test)\n",
    "    \n",
    "    print(f\"Selected {len(selected_features)} features\")\n",
    "    \n",
    "    # Convert to DataFrame with feature names\n",
    "    X_train_selected = pd.DataFrame(X_train_selected, columns=selected_features)\n",
    "    X_test_selected = pd.DataFrame(X_test_selected, columns=selected_features)\n",
    "    \n",
    "    # Save the selector\n",
    "    with open(os.path.join(models_dir, f'feature_selector_{method}.pkl'), 'wb') as f:\n",
    "        pickle.dump(selector, f)\n",
    "    \n",
    "    # Return transformed datasets and selected features\n",
    "    return X_train_selected, X_test_selected, selected_features\n"
   ]
  },
  {
   "cell_type": "code",
   "execution_count": 48,
   "metadata": {},
   "outputs": [
    {
     "name": "stdout",
     "output_type": "stream",
     "text": [
      "Performing tree-based feature selection...\n",
      "Selected 299 features\n"
     ]
    }
   ],
   "source": [
    "# Perform feature selection using tree-based method\n",
    "X_train_selected, X_test_selected, selected_features = perform_feature_selection(\n",
    "    X_train, y_train, X_test, method='tree', max_features=300\n",
    ")"
   ]
  },
  {
   "cell_type": "code",
   "execution_count": 49,
   "metadata": {},
   "outputs": [
    {
     "name": "stdout",
     "output_type": "stream",
     "text": [
      "\n",
      "Selected Feature Categories:\n",
      "Length features: 8 of 9\n",
      "Lexical features: 15 of 21\n",
      "Sentiment features: 6 of 6\n",
      "TF-IDF features: 265 of 1000\n",
      "N-gram features: 6 of 100\n"
     ]
    }
   ],
   "source": [
    "# Examine feature categories in selected features\n",
    "length_features = [col for col in selected_features if col in [\n",
    "    'word_count', 'char_count', 'avg_word_length', \n",
    "    'unique_word_count', 'vocab_diversity',\n",
    "    'sentence_count', 'avg_sentence_length',\n",
    "    'paragraph_count', 'avg_paragraph_length'\n",
    "]]\n",
    "\n",
    "lexical_features = [col for col in selected_features if col.startswith('count_') or col.endswith('_ratio')]\n",
    "sentiment_features = [col for col in selected_features if col.startswith('sentiment_')]\n",
    "tfidf_features = [col for col in selected_features if col.startswith('tfidf_')]\n",
    "ngram_features = [col for col in selected_features if col.startswith('bigram_')]\n",
    "\n",
    "print(\"\\nSelected Feature Categories:\")\n",
    "print(f\"Length features: {len(length_features)} of 9\")\n",
    "print(f\"Lexical features: {len(lexical_features)} of 21\")\n",
    "print(f\"Sentiment features: {len(sentiment_features)} of 6\")\n",
    "print(f\"TF-IDF features: {len(tfidf_features)} of 1000\")\n",
    "print(f\"N-gram features: {len(ngram_features)} of 100\")"
   ]
  },
  {
   "cell_type": "code",
   "execution_count": 50,
   "metadata": {},
   "outputs": [
    {
     "name": "stdout",
     "output_type": "stream",
     "text": [
      "\n",
      "Top features by category:\n",
      "Length: word_count, char_count, avg_word_length, unique_word_count, vocab_diversity\n",
      "Lexical: count_trump, count_clinton, count_hillary, count_obama, count_democrat\n",
      "Sentiment: sentiment_compound, sentiment_positive, sentiment_negative, sentiment_neutral, sentiment_emotional_ratio\n",
      "TF-IDF: tfidf_8, tfidf_13, tfidf_16, tfidf_17, tfidf_18\n",
      "N-gram: bigram_bill_clinton, bigram_donald_trump, bigram_gun_control, bigram_hillary_clinton, bigram_president_trump\n"
     ]
    }
   ],
   "source": [
    "# Save the most important features by category\n",
    "top_features = {\n",
    "    'Length': length_features[:5],\n",
    "    'Lexical': lexical_features[:5],\n",
    "    'Sentiment': sentiment_features[:5],\n",
    "    'TF-IDF': tfidf_features[:5],\n",
    "    'N-gram': ngram_features[:5]\n",
    "}\n",
    "\n",
    "print(\"\\nTop features by category:\")\n",
    "for category, features in top_features.items():\n",
    "    print(f\"{category}: {', '.join(features)}\")"
   ]
  },
  {
   "cell_type": "markdown",
   "metadata": {},
   "source": [
    "We'll train multiple models to identify which performs best for hyperpartisan detection."
   ]
  },
  {
   "cell_type": "code",
   "execution_count": 51,
   "metadata": {},
   "outputs": [],
   "source": [
    "def train_and_evaluate_model(model, X_train, y_train, X_test, y_test, model_name):\n",
    "    \"\"\"Train and evaluate a model, saving the results\"\"\"\n",
    "    print(f\"\\nTraining {model_name}...\")\n",
    "    \n",
    "    # Train the model\n",
    "    model.fit(X_train, y_train)\n",
    "    \n",
    "    # Make predictions\n",
    "    y_pred = model.predict(X_test)\n",
    "    y_pred_proba = model.predict_proba(X_test)[:, 1] if hasattr(model, \"predict_proba\") else None\n",
    "    \n",
    "    # Print classification report\n",
    "    print(f\"{model_name} Classification Report:\")\n",
    "    print(classification_report(y_test, y_pred))\n",
    "    \n",
    "    # Create confusion matrix\n",
    "    cm = confusion_matrix(y_test, y_pred)\n",
    "    \n",
    "    # Calculate cross-validation score\n",
    "    cv_scores = cross_val_score(model, X_train, y_train, cv=5, scoring='f1')\n",
    "    print(f\"5-fold CV F1 Score: {cv_scores.mean():.4f} ± {cv_scores.std():.4f}\")\n",
    "    \n",
    "    # Save the model\n",
    "    with open(os.path.join(models_dir, f'{model_name.lower().replace(\" \", \"_\")}.pkl'), 'wb') as f:\n",
    "        pickle.dump(model, f)\n",
    "    \n",
    "    # Create evaluation visualizations\n",
    "    plt.figure(figsize=(12, 5))\n",
    "    \n",
    "    # Confusion Matrix\n",
    "    plt.subplot(1, 2, 1)\n",
    "    sns.heatmap(cm, annot=True, fmt='d', cmap='Blues', \n",
    "                xticklabels=['Not Hyperpartisan', 'Hyperpartisan'],\n",
    "                yticklabels=['Not Hyperpartisan', 'Hyperpartisan'])\n",
    "    plt.title(f'{model_name} Confusion Matrix')\n",
    "    plt.xlabel('Predicted Label')\n",
    "    plt.ylabel('True Label')\n",
    "    \n",
    "    # ROC Curve or Precision-Recall Curve\n",
    "    plt.subplot(1, 2, 2)\n",
    "    if y_pred_proba is not None:\n",
    "        # ROC curve\n",
    "        fpr, tpr, _ = roc_curve(y_test, y_pred_proba)\n",
    "        roc_auc = auc(fpr, tpr)\n",
    "        plt.plot(fpr, tpr, label=f'AUC = {roc_auc:.3f}')\n",
    "        plt.plot([0, 1], [0, 1], 'k--')\n",
    "        plt.xlabel('False Positive Rate')\n",
    "        plt.ylabel('True Positive Rate')\n",
    "        plt.title(f'{model_name} ROC Curve')\n",
    "        plt.legend(loc='lower right')\n",
    "    \n",
    "    plt.tight_layout()\n",
    "    plt.savefig(os.path.join(models_dir, f'{model_name.lower().replace(\" \", \"_\")}_evaluation.png'))\n",
    "    plt.close()\n",
    "    \n",
    "    return model, y_pred, y_pred_proba if hasattr(model, \"predict_proba\") else None\n"
   ]
  },
  {
   "cell_type": "code",
   "execution_count": 52,
   "metadata": {},
   "outputs": [],
   "source": [
    "# Define models to evaluate\n",
    "models = {\n",
    "    'Logistic Regression': LogisticRegression(max_iter=1000, random_state=42),\n",
    "    'Random Forest': RandomForestClassifier(n_estimators=100, random_state=42),\n",
    "    'Gradient Boosting': GradientBoostingClassifier(n_estimators=100, random_state=42),\n",
    "    'SVM': SVC(probability=True, random_state=42)\n",
    "}"
   ]
  },
  {
   "cell_type": "code",
   "execution_count": 53,
   "metadata": {},
   "outputs": [
    {
     "name": "stdout",
     "output_type": "stream",
     "text": [
      "\n",
      "Training Logistic Regression...\n",
      "Logistic Regression Classification Report:\n",
      "              precision    recall  f1-score   support\n",
      "\n",
      "       False       0.74      0.81      0.78        81\n",
      "        True       0.62      0.52      0.57        48\n",
      "\n",
      "    accuracy                           0.71       129\n",
      "   macro avg       0.68      0.67      0.67       129\n",
      "weighted avg       0.70      0.71      0.70       129\n",
      "\n",
      "5-fold CV F1 Score: 0.7280 ± 0.0352\n",
      "\n",
      "Training Random Forest...\n",
      "Random Forest Classification Report:\n",
      "              precision    recall  f1-score   support\n",
      "\n",
      "       False       0.74      0.94      0.83        81\n",
      "        True       0.81      0.44      0.57        48\n",
      "\n",
      "    accuracy                           0.75       129\n",
      "   macro avg       0.77      0.69      0.70       129\n",
      "weighted avg       0.76      0.75      0.73       129\n",
      "\n",
      "5-fold CV F1 Score: 0.6573 ± 0.0555\n",
      "\n",
      "Training Gradient Boosting...\n",
      "Gradient Boosting Classification Report:\n",
      "              precision    recall  f1-score   support\n",
      "\n",
      "       False       0.76      0.91      0.83        81\n",
      "        True       0.77      0.50      0.61        48\n",
      "\n",
      "    accuracy                           0.76       129\n",
      "   macro avg       0.76      0.71      0.72       129\n",
      "weighted avg       0.76      0.76      0.75       129\n",
      "\n",
      "5-fold CV F1 Score: 0.6580 ± 0.0679\n",
      "\n",
      "Training SVM...\n",
      "SVM Classification Report:\n",
      "              precision    recall  f1-score   support\n",
      "\n",
      "       False       0.75      0.81      0.78        81\n",
      "        True       0.63      0.54      0.58        48\n",
      "\n",
      "    accuracy                           0.71       129\n",
      "   macro avg       0.69      0.68      0.68       129\n",
      "weighted avg       0.71      0.71      0.71       129\n",
      "\n",
      "5-fold CV F1 Score: 0.7562 ± 0.0489\n"
     ]
    }
   ],
   "source": [
    "# Train and evaluate each model\n",
    "results = {}\n",
    "for name, model in models.items():\n",
    "    model, y_pred, y_pred_proba = train_and_evaluate_model(\n",
    "        model, X_train_selected, y_train, X_test_selected, y_test, name\n",
    "    )\n",
    "    results[name] = {\n",
    "        'model': model,\n",
    "        'predictions': y_pred,\n",
    "        'probabilities': y_pred_proba\n",
    "    }"
   ]
  },
  {
   "cell_type": "code",
   "execution_count": 54,
   "metadata": {},
   "outputs": [
    {
     "name": "stdout",
     "output_type": "stream",
     "text": [
      "\n",
      "Training Gaussian Naive Bayes...\n",
      "Gaussian Naive Bayes Classification Report:\n",
      "              precision    recall  f1-score   support\n",
      "\n",
      "       False       0.73      0.75      0.74        81\n",
      "        True       0.56      0.52      0.54        48\n",
      "\n",
      "    accuracy                           0.67       129\n",
      "   macro avg       0.64      0.64      0.64       129\n",
      "weighted avg       0.66      0.67      0.66       129\n",
      "\n",
      "5-fold CV F1 Score: 0.7003 ± 0.0579\n"
     ]
    }
   ],
   "source": [
    "from sklearn.naive_bayes import GaussianNB\n",
    "\n",
    "nb_model = GaussianNB()\n",
    "nb_name = 'Gaussian Naive Bayes'\n",
    "nb_model, nb_pred, nb_proba = train_and_evaluate_model(\n",
    "    nb_model, X_train_selected, y_train, X_test_selected, y_test, nb_name\n",
    ")\n",
    "results[nb_name] = {\n",
    "    'model': nb_model,\n",
    "    'predictions': nb_pred,\n",
    "    'probabilities': nb_proba\n",
    "}"
   ]
  },
  {
   "cell_type": "code",
   "execution_count": 55,
   "metadata": {},
   "outputs": [
    {
     "name": "stdout",
     "output_type": "stream",
     "text": [
      "\n",
      "Training Stacked...\n",
      "Stacked Classification Report:\n",
      "              precision    recall  f1-score   support\n",
      "\n",
      "       False       0.74      0.86      0.80        81\n",
      "        True       0.69      0.50      0.58        48\n",
      "\n",
      "    accuracy                           0.73       129\n",
      "   macro avg       0.72      0.68      0.69       129\n",
      "weighted avg       0.72      0.73      0.72       129\n",
      "\n",
      "5-fold CV F1 Score: 0.7361 ± 0.0405\n"
     ]
    }
   ],
   "source": [
    "from sklearn.ensemble import StackingClassifier\n",
    "\n",
    "estimators = [\n",
    "    ('Random Forest', RandomForestClassifier(n_estimators=100, random_state=42)),\n",
    "    ('Logistic Regression', LogisticRegression(max_iter=1000, random_state=42)),\n",
    "    ('Gaussian Naive Bayes', GaussianNB()),\n",
    "    ('SVM', SVC(probability=True, random_state=42)),\n",
    "    ('Gradient Boosting', GradientBoostingClassifier(n_estimators=100, random_state=42)),\n",
    "]\n",
    "\n",
    "stack_model = StackingClassifier(\n",
    "    estimators=estimators,\n",
    "    final_estimator=LogisticRegression(),\n",
    "    cv=5,                      # 5-fold internal CV for out-of-fold preds\n",
    "    stack_method='predict_proba',\n",
    "    n_jobs=-1,\n",
    ")\n",
    "\n",
    "stack_name = \"Stacked\"\n",
    "stack_model, stack_pred, stack_proba = train_and_evaluate_model(\n",
    "    stack_model, X_train_selected, y_train, X_test_selected, y_test, stack_name\n",
    ")\n",
    "results[stack_name] = {\n",
    "    'model': stack_model,\n",
    "    'predictions': stack_pred,\n",
    "    'probabilities': stack_proba\n",
    "}"
   ]
  },
  {
   "cell_type": "code",
   "execution_count": 80,
   "metadata": {},
   "outputs": [
    {
     "data": {
      "image/png": "[encoded data removed]",
      "text/plain": [
       "<Figure size 1200x800 with 1 Axes>"
      ]
     },
     "metadata": {},
     "output_type": "display_data"
    },
    {
     "name": "stdout",
     "output_type": "stream",
     "text": [
      "Top 20 most important features:\n",
      "1. unique_word_count: 0.0248\n",
      "2. political_terms_ratio: 0.0244\n",
      "3. char_count: 0.0235\n",
      "4. avg_paragraph_length: 0.0231\n",
      "5. tfidf_916: 0.0211\n",
      "6. word_count: 0.0196\n",
      "7. sentence_count: 0.0180\n",
      "8. sentiment_emotional_ratio: 0.0165\n",
      "9. tfidf_522: 0.0164\n",
      "10. count_trump: 0.0156\n",
      "11. sentiment_negative: 0.0155\n",
      "12. sentiment_neutral: 0.0143\n",
      "13. vocab_diversity: 0.0137\n",
      "14. tfidf_35: 0.0130\n",
      "15. sentiment_variance: 0.0125\n",
      "16. bigram_president_trump: 0.0120\n",
      "17. tfidf_183: 0.0113\n",
      "18. sentiment_positive: 0.0101\n",
      "19. tfidf_296: 0.0100\n",
      "20. avg_sentence_length: 0.0098\n"
     ]
    }
   ],
   "source": [
    "# Analyze feature importance from the Random Forest model\n",
    "if 'Random Forest' in results:\n",
    "    rf_model = results['Random Forest']['model']\n",
    "    feature_importances = pd.Series(rf_model.feature_importances_, index=X_train_selected.columns)\n",
    "    top_20_features = feature_importances.nlargest(20)\n",
    "    \n",
    "    plt.figure(figsize=(12, 8))\n",
    "\n",
    "    ax = top_20_features.sort_values().plot(kind='barh')\n",
    "    ax.tick_params(axis='y', labelsize=16)\n",
    "    ax.tick_params(axis='x', labelsize=16)\n",
    "    ax.set_title('Top 20 Most Important Features (Random Forest)', fontsize=18)\n",
    "    ax.set_xlabel('Importance', fontsize=16)\n",
    "\n",
    "    plt.tight_layout()\n",
    "    plt.savefig(os.path.join(models_dir, 'top_20_features.png'), dpi=300)\n",
    "    plt.show()\n",
    "    \n",
    "    print(\"Top 20 most important features:\")\n",
    "    for i, (feature, importance) in enumerate(top_20_features.items(), 1):\n",
    "        print(f\"{i}. {feature}: {importance:.4f}\")"
   ]
  },
  {
   "cell_type": "code",
   "execution_count": 29,
   "metadata": {},
   "outputs": [
    {
     "name": "stdout",
     "output_type": "stream",
     "text": [
      "                      Accuracy  Precision    Recall  F1 Score\n",
      "Logistic Regression   0.705426   0.698197  0.705426  0.698968\n",
      "Random Forest         0.751938   0.763847  0.751938  0.729894\n",
      "Gradient Boosting     0.759690   0.762206  0.759690  0.745245\n",
      "SVM                   0.713178   0.706892  0.713178  0.707839\n",
      "Gaussian Naive Bayes  0.666667   0.662698  0.666667  0.664321\n",
      "Stacked               0.744186   0.739226  0.744186  0.735766\n"
     ]
    }
   ],
   "source": [
    "# Compare model performances\n",
    "model_scores = {}\n",
    "for name in results.keys():\n",
    "    y_pred = results[name]['predictions']\n",
    "    report = classification_report(y_test, y_pred, output_dict=True)\n",
    "    model_scores[name] = {\n",
    "        'Accuracy': report['accuracy'],\n",
    "        'Precision': report['weighted avg']['precision'],\n",
    "        'Recall': report['weighted avg']['recall'],\n",
    "        'F1 Score': report['weighted avg']['f1-score']\n",
    "    }\n",
    "\n",
    "# Convert to DataFrame for easier comparison\n",
    "scores_df = pd.DataFrame(model_scores).T\n",
    "print(scores_df)"
   ]
  },
  {
   "cell_type": "code",
   "execution_count": 30,
   "metadata": {},
   "outputs": [
    {
     "data": {
      "text/plain": [
       "<Figure size 1200x800 with 0 Axes>"
      ]
     },
     "metadata": {},
     "output_type": "display_data"
    },
    {
     "data": {
      "image/png": "[encoded data removed]",
      "text/plain": [
       "<Figure size 1200x600 with 1 Axes>"
      ]
     },
     "metadata": {},
     "output_type": "display_data"
    }
   ],
   "source": [
    "# Visualize model comparison\n",
    "plt.figure(figsize=(12, 8))\n",
    "scores_df.plot(kind='bar', figsize=(12, 6))\n",
    "plt.title('Model Performance Comparison')\n",
    "plt.ylabel('Score')\n",
    "plt.ylim(0, 1)\n",
    "plt.xticks(rotation=45)\n",
    "plt.tight_layout()\n",
    "plt.savefig(os.path.join(models_dir, 'model_comparison.png'))\n",
    "plt.show()"
   ]
  },
  {
   "cell_type": "code",
   "execution_count": 56,
   "metadata": {},
   "outputs": [
    {
     "name": "stdout",
     "output_type": "stream",
     "text": [
      "Best model based on F1 Score: Gradient Boosting\n"
     ]
    }
   ],
   "source": [
    "# Identify the best model based on F1 score\n",
    "best_model_name = scores_df['F1 Score'].idxmax()\n",
    "print(f\"Best model based on F1 Score: {best_model_name}\")"
   ]
  },
  {
   "cell_type": "code",
   "execution_count": 57,
   "metadata": {},
   "outputs": [],
   "source": [
    "# Define parameter grid for the best model\n",
    "if best_model_name == 'Logistic Regression':\n",
    "    param_grid = {\n",
    "        'C': [0.01, 0.1, 1, 10, 100],\n",
    "        'solver': ['liblinear', 'lbfgs'],\n",
    "        'class_weight': [None, 'balanced']\n",
    "    }\n",
    "    base_model = LogisticRegression(max_iter=1000, random_state=42)\n",
    "elif best_model_name == 'Random Forest':\n",
    "    param_grid = {\n",
    "        'n_estimators': [50, 100, 200],\n",
    "        'max_depth': [None, 10, 20, 30],\n",
    "        'min_samples_split': [2, 5, 10],\n",
    "        'class_weight': [None, 'balanced']\n",
    "    }\n",
    "    base_model = RandomForestClassifier(random_state=42)\n",
    "elif best_model_name == 'Gradient Boosting':\n",
    "    param_grid = {\n",
    "        'n_estimators': [50, 100, 200],\n",
    "        'learning_rate': [0.01, 0.1, 0.2],\n",
    "        'max_depth': [3, 5, 7]\n",
    "    }\n",
    "    base_model = GradientBoostingClassifier(random_state=42)\n",
    "elif best_model_name == 'SVM':\n",
    "    param_grid = {\n",
    "        'C': [0.1, 1, 10],\n",
    "        'kernel': ['linear', 'rbf'],\n",
    "        'gamma': ['scale', 'auto'],\n",
    "        'class_weight': [None, 'balanced']\n",
    "    }\n",
    "    base_model = SVC(probability=True, random_state=42)\n",
    "else:  # Naive Bayes\n",
    "    param_grid = {\n",
    "        'alpha': [0.01, 0.1, 0.5, 1.0, 2.0]\n",
    "    }\n",
    "    base_model = MultinomialNB()"
   ]
  },
  {
   "cell_type": "code",
   "execution_count": 58,
   "metadata": {},
   "outputs": [
    {
     "name": "stdout",
     "output_type": "stream",
     "text": [
      "Tuning hyperparameters for Gradient Boosting...\n",
      "Fitting 5 folds for each of 27 candidates, totalling 135 fits\n",
      "Best parameters: {'learning_rate': 0.1, 'max_depth': 5, 'n_estimators': 200}\n",
      "Best F1 score: 0.6825\n"
     ]
    }
   ],
   "source": [
    "# Perform grid search\n",
    "print(f\"Tuning hyperparameters for {best_model_name}...\")\n",
    "grid_search = GridSearchCV(\n",
    "    base_model, param_grid, cv=5, scoring='f1', n_jobs=-1, verbose=1\n",
    ")\n",
    "grid_search.fit(X_train_selected, y_train)\n",
    "\n",
    "print(f\"Best parameters: {grid_search.best_params_}\")\n",
    "print(f\"Best F1 score: {grid_search.best_score_:.4f}\")"
   ]
  },
  {
   "cell_type": "code",
   "execution_count": 60,
   "metadata": {},
   "outputs": [
    {
     "name": "stdout",
     "output_type": "stream",
     "text": [
      "\n",
      "Final Model Performance:\n",
      "              precision    recall  f1-score   support\n",
      "\n",
      "       False       0.74      0.91      0.82        81\n",
      "        True       0.76      0.46      0.57        48\n",
      "\n",
      "    accuracy                           0.74       129\n",
      "   macro avg       0.75      0.69      0.69       129\n",
      "weighted avg       0.75      0.74      0.73       129\n",
      "\n",
      "\n",
      "Final model saved to hyperpartisan_models/final_model.pkl\n"
     ]
    }
   ],
   "source": [
    "# Train final model with best parameters\n",
    "final_model = grid_search.best_estimator_\n",
    "final_model.fit(X_train_selected, y_train)\n",
    "\n",
    "# Evaluate final model\n",
    "y_pred_final = final_model.predict(X_test_selected)\n",
    "print(\"\\nFinal Model Performance:\")\n",
    "print(classification_report(y_test, y_pred_final))\n",
    "\n",
    "# Save final model\n",
    "with open(os.path.join(models_dir, 'final_model.pkl'), 'wb') as f:\n",
    "    pickle.dump(final_model, f)\n",
    "\n",
    "print(f\"\\nFinal model saved to {os.path.join(models_dir, 'final_model.pkl')}\")"
   ]
  },
  {
   "cell_type": "markdown",
   "metadata": {},
   "source": [
    "examine examples that our model misclassified to understand potential weaknesses.\n"
   ]
  },
  {
   "cell_type": "code",
   "execution_count": 61,
   "metadata": {},
   "outputs": [
    {
     "name": "stdout",
     "output_type": "stream",
     "text": [
      "Number of misclassified articles: 33\n",
      "\n",
      "Sample of misclassified articles:\n",
      "\n",
      "Article 1:\n",
      "ID: 24\n",
      "True label: Hyperpartisan\n",
      "Predicted label: Not Hyperpartisan\n",
      "Text snippet: (Newser) – President Trump defended Michael Flynn on Monday by invoking Hillary Clinton. While speaking to reporters, the president said he felt \"very...\n",
      "Key feature values:\n",
      "  unique_word_count: -0.4430\n",
      "  political_terms_ratio: -0.8744\n",
      "  char_count: -0.4881\n",
      "  avg_paragraph_length: -0.4460\n",
      "  tfidf_916: -0.7504\n",
      "\n",
      "Article 2:\n",
      "ID: 99\n",
      "True label: Not Hyperpartisan\n",
      "Predicted label: Hyperpartisan\n",
      "Text snippet: Former George W. Bush communications director Nicolle Wallace reported Tuesday multiple senior Republican officials have told her that to expect that ...\n",
      "Key feature values:\n",
      "  unique_word_count: -0.6229\n",
      "  political_terms_ratio: -0.2063\n",
      "  char_count: -0.5615\n",
      "  avg_paragraph_length: -0.5588\n",
      "  tfidf_916: 0.4983\n",
      "\n",
      "Article 3:\n",
      "ID: 19\n",
      "True label: Hyperpartisan\n",
      "Predicted label: Not Hyperpartisan\n",
      "Text snippet: The world Is watching and so is oil as the death toll rises in the streets of Iran, where the people revolt against a terrible economy and the lack of...\n",
      "Key feature values:\n",
      "  unique_word_count: -0.1132\n",
      "  political_terms_ratio: 0.5879\n",
      "  char_count: -0.0737\n",
      "  avg_paragraph_length: -0.0257\n",
      "  tfidf_916: 1.6393\n",
      "\n",
      "Article 4:\n",
      "ID: 94\n",
      "True label: Hyperpartisan\n",
      "Predicted label: Not Hyperpartisan\n",
      "Text snippet: Hurricane Harvey reveals an America that many in the media seem not to know exists: a multi-ethnic, multiracial country where people, for the most par...\n",
      "Key feature values:\n",
      "  unique_word_count: 0.2841\n",
      "  political_terms_ratio: 0.1731\n",
      "  char_count: 0.1339\n",
      "  avg_paragraph_length: 0.1490\n",
      "  tfidf_916: 0.5377\n",
      "\n",
      "Article 5:\n",
      "ID: 89\n",
      "True label: Hyperpartisan\n",
      "Predicted label: Not Hyperpartisan\n",
      "Text snippet: Fulfilling his role as the titular head of “The Resistance,” Barack Obama took to Facebook Tuesday to snipe at the Trump administration’s announcement...\n",
      "Key feature values:\n",
      "  unique_word_count: -1.1850\n",
      "  political_terms_ratio: 2.9313\n",
      "  char_count: -0.9762\n",
      "  avg_paragraph_length: -0.9636\n",
      "  tfidf_916: -0.7504\n"
     ]
    }
   ],
   "source": [
    "# Get indices of misclassified samples\n",
    "misclassified_indices = np.where(y_pred_final != y_test)[0]\n",
    "\n",
    "# Load original data to examine misclassified examples\n",
    "try:\n",
    "    original_df = pd.read_csv(\"hyperpartisan_data/articles_preprocessed.csv\")\n",
    "    test_indices = y_test.index\n",
    "    \n",
    "    print(f\"Number of misclassified articles: {len(misclassified_indices)}\")\n",
    "    \n",
    "    # Sample a few misclassified examples (if available)\n",
    "    if len(misclassified_indices) > 0:\n",
    "        sample_size = min(5, len(misclassified_indices))\n",
    "        sample_indices = np.random.choice(misclassified_indices, sample_size, replace=False)\n",
    "        \n",
    "        print(\"\\nSample of misclassified articles:\")\n",
    "        for i, idx in enumerate(sample_indices, 1):\n",
    "            orig_idx = test_indices[idx]\n",
    "            article_id = original_df.iloc[orig_idx]['id'] if 'id' in original_df.columns else 'Unknown'\n",
    "            true_label = \"Hyperpartisan\" if y_test.iloc[idx] else \"Not Hyperpartisan\"\n",
    "            pred_label = \"Hyperpartisan\" if y_pred_final[idx] else \"Not Hyperpartisan\"\n",
    "            \n",
    "            print(f\"\\nArticle {i}:\")\n",
    "            print(f\"ID: {article_id}\")\n",
    "            print(f\"True label: {true_label}\")\n",
    "            print(f\"Predicted label: {pred_label}\")\n",
    "            \n",
    "            # Print a snippet of the article text\n",
    "            article_text = original_df.iloc[orig_idx]['text'] if 'text' in original_df.columns else 'Text not available'\n",
    "            print(f\"Text snippet: {article_text[:150]}...\")\n",
    "            \n",
    "            # Print feature values for important features\n",
    "            print(\"Key feature values:\")\n",
    "            for feature in top_20_features.index[:5]:  # Top 5 important features\n",
    "                if feature in X_test_selected.columns:\n",
    "                    value = X_test_selected.iloc[idx][feature]\n",
    "                    print(f\"  {feature}: {value:.4f}\")\n",
    "except Exception as e:\n",
    "    print(f\"Could not perform detailed misclassification analysis: {e}\")\n"
   ]
  },
  {
   "cell_type": "code",
   "execution_count": null,
   "metadata": {},
   "outputs": [],
   "source": [
    "# # %%\n",
    "# def predict_hyperpartisan(text, model_path=os.path.join(models_dir, 'final_model.pkl')):\n",
    "#     \"\"\"Predict if a given article text is hyperpartisan\"\"\"\n",
    "    \n",
    "#     # Load preprocessing tools\n",
    "#     try:\n",
    "#         with open(os.path.join(models_dir, 'feature_selector_tree.pkl'), 'rb') as f:\n",
    "#             feature_selector = pickle.load(f)\n",
    "            \n",
    "#         # Load model\n",
    "#         with open(model_path, 'rb') as f:\n",
    "#             model = pickle.load(f)\n",
    "            \n",
    "#         # Process text (simplified version - in practice you'd need the full preprocessing pipeline)\n",
    "#         # This is just a placeholder - you'd need to implement the same feature extraction\n",
    "#         # as in your feature engineering script\n",
    "#         print(\"Note: This is a placeholder function. In practice, you need to:\")\n",
    "#         print(\"1. Preprocess the text using the same pipeline as during training\")\n",
    "#         print(\"2. Extract all the features (length, lexical, sentiment, TF-IDF, n-grams)\")\n",
    "#         print(\"3. Apply feature selection\")\n",
    "#         print(\"4. Make prediction with the trained model\")\n",
    "        \n",
    "#         return \"Function not fully implemented - requires the complete feature extraction pipeline\"\n",
    "    \n",
    "#     except Exception as e:\n",
    "#         return f\"Error in prediction: {e}\""
   ]
  },
  {
   "cell_type": "markdown",
   "metadata": {},
   "source": [
    "\n",
    "\n",
    "## Feature Importance Analysis\n",
    "\n",
    "The top features reveal clear patterns in what distinguishes hyperpartisan content:\n",
    "\n",
    "1. **Article structure matters most**:\n",
    "   - `unique_word_count` is the #1 predictor\n",
    "   - `char_count`, `avg_paragraph_length`, and `word_count` are all top 6 features\n",
    "   - This confirms our EDA finding that hyperpartisan articles tend to be longer\n",
    "\n",
    "2. **Political language is highly predictive**:\n",
    "   - `political_terms_ratio` ranks #2 overall\n",
    "   - `count_trump` appears in the top 10\n",
    "   - `bigram_president_trump` is also significant\n",
    "\n",
    "3. **Emotional content is a strong signal**:\n",
    "   - `sentiment_emotional_ratio` (ratio of emotional to neutral language) ranks #8\n",
    "   - Both `sentiment_negative` and `sentiment_neutral` are important\n",
    "   - `sentiment_variance` (emotional fluctuation) is predictive\n",
    "\n",
    "4. **Specific vocabulary patterns** (represented by TF-IDF features) appear multiple times in the top 20\n",
    "\n",
    "## Model Performance\n",
    "\n",
    "The model comparison shows:\n",
    "\n",
    "1. **Tree-based models performed best**:\n",
    "   - Gradient Boosting: 76% accuracy, 0.745 F1 score\n",
    "   - Random Forest: 75% accuracy, 0.730 F1 score\n",
    "\n",
    "2. **Linear models were competitive**:\n",
    "   - Logistic Regression: 71% accuracy\n",
    "   - SVM: 71% accuracy\n",
    "\n",
    "3. **After hyperparameter tuning**:\n",
    "   - Your final Gradient Boosting model achieved 74% accuracy\n",
    "   - Strong performance on non-hyperpartisan content (F1 of 0.82)\n",
    "   - Lower recall on hyperpartisan content (0.46) - the model misses some hyperpartisan articles\n",
    "\n",
    "## Key Insights and Recommendations\n",
    "\n",
    "1. **Class imbalance impact**: The models struggle more with identifying hyperpartisan content (recall of 0.46) than non-hyperpartisan content (recall of 0.91), likely due to having fewer examples.\n",
    "\n",
    "2. **Feature engineering success**:  all feature categories (length, lexical, sentiment, TF-IDF, n-gram) contributed to prediction quality.\n",
    "\n",
    "3. **Next steps could include**:\n",
    "   - Addressing class imbalance through sampling techniques\n",
    "   - Creating ensemble models combining multiple approaches\n",
    "   - Adding more domain-specific features targeting political bias markers\n",
    "   - Collecting more hyperpartisan examples to improve detection\n",
    "\n",
    "model shows strong performance on this challenging task with ~75% accuracy"
   ]
  },
  {
   "cell_type": "markdown",
   "metadata": {},
   "source": [
    "\n",
    "## The Discrepancy:\n",
    "\n",
    "- **Before tuning**: 75.97% accuracy, 0.745 F1 score\n",
    "- **After tuning**: 74% accuracy, 0.73 weighted F1 score\n",
    "\n",
    "The hyperparameter-tuned model did perform slightly worse than the original model on the test set\n",
    "\n",
    "## Why This Happened:\n",
    "\n",
    "1. **Different optimization targets**: The hyperparameter tuning was optimized for F1 score on cross-validation data (achieving 0.6837), not accuracy on the test set.\n",
    "\n",
    "2. **Cross-validation vs. test set mismatch**: Parameters that worked best on the cross-validation folds didn't generalize as well to the unseen test data.\n",
    "\n",
    "3. **Potential overfitting**: The tuned parameters might have fit too closely to the validation data.\n",
    "\n",
    "4. **Class imbalance effects**: The optimization was likely affected by the unbalanced classes (more non-hyperpartisan than hyperpartisan examples).\n",
    "\n",
    "## What This Teaches Us:\n",
    "\n",
    "This is actually a common scenario in applied machine learning and points to important considerations:\n",
    "\n",
    "- Hyperparameter tuning doesn't guarantee improved performance on unseen data\n",
    "- The choice of optimization metric matters greatly (F1 vs accuracy)\n",
    "- Cross-validation performance doesn't always translate to test set performance\n",
    "\n",
    "## Best Practice Going Forward:\n",
    "\n",
    "In this case, you would be justified in using the original, non-tuned Gradient Boosting model since it demonstrated better performance on your test data.\n",
    "\n",
    "This is a great example of why we always need to validate our models on a holdout test set rather than just relying on cross-validation scores or hyperparameter tuning results."
   ]
  }
 ],
 "metadata": {
  "kernelspec": {
   "display_name": ".env",
   "language": "python",
   "name": "python3"
  },
  "language_info": {
   "codemirror_mode": {
    "name": "ipython",
    "version": 3
   },
   "file_extension": ".py",
   "mimetype": "text/x-python",
   "name": "python",
   "nbconvert_exporter": "python",
   "pygments_lexer": "ipython3",
   "version": "3.12.6"
  }
 },
 "nbformat": 4,
 "nbformat_minor": 2
}
